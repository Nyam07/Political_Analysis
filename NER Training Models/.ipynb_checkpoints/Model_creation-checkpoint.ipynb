{
 "cells": [
  {
   "cell_type": "markdown",
   "id": "b5c29233",
   "metadata": {},
   "source": [
    "# Create a model that will get the names and political parties using Machine learning"
   ]
  },
  {
   "cell_type": "markdown",
   "id": "b2ef3b71",
   "metadata": {},
   "source": [
    "## Library and data imports"
   ]
  },
  {
   "cell_type": "code",
   "execution_count": 4,
   "id": "7f30a688",
   "metadata": {},
   "outputs": [],
   "source": [
    "import spacy\n",
    "import json\n",
    "import random\n",
    "from spacy.training.example import Example"
   ]
  },
  {
   "cell_type": "code",
   "execution_count": 5,
   "id": "4557570a",
   "metadata": {},
   "outputs": [],
   "source": [
    "def load_data(file):\n",
    "    with open(file, \"r\", encoding=\"utf-8\") as f:\n",
    "        data = json.load(f)\n",
    "        \n",
    "    return data"
   ]
  },
  {
   "cell_type": "code",
   "execution_count": 6,
   "id": "99a874ca",
   "metadata": {},
   "outputs": [],
   "source": [
    "def save_data(file, data):\n",
    "    with open(file, \"w\", encoding=\"utf-8\") as f:\n",
    "        json.dump(data, f, indent = 4)"
   ]
  },
  {
   "cell_type": "code",
   "execution_count": 7,
   "id": "0d750648",
   "metadata": {},
   "outputs": [],
   "source": [
    "TRAINING_DATA = load_data(\"data/political_training_data.json\")"
   ]
  },
  {
   "cell_type": "markdown",
   "id": "6a1f4953",
   "metadata": {},
   "source": [
    "## Model Training"
   ]
  },
  {
   "cell_type": "code",
   "execution_count": 8,
   "id": "64d5ab8c",
   "metadata": {},
   "outputs": [],
   "source": [
    "def train_spacy(data, iterations):\n",
    "    TRAIN_DATA = data\n",
    "    nlp = spacy.blank(\"en\")\n",
    "    \n",
    "    if \"ner\" not in nlp.pipe_names:\n",
    "        nlp.add_pipe(\"ner\", last=True)\n",
    "        ner =nlp.get_pipe(\"ner\")\n",
    "        \n",
    "    # add labels into the model\n",
    "    for _, annotations in TRAIN_DATA:\n",
    "        for ent in annotations.get(\"entities\"):\n",
    "            ner.add_label(ent[2])\n",
    "            \n",
    "    #deactivate all other pipes\n",
    "    other_pipes = [pipe for pipe in nlp.pipe_names if pipe != \"ner\"]\n",
    "    with nlp.disable_pipes(*other_pipes):\n",
    "        optimizer = nlp.begin_training()\n",
    "        \n",
    "        #iterate training process\n",
    "        for itn in range(iterations):\n",
    "            print(\"Starting iteration \" +str(itn))\n",
    "            random.shuffle(TRAIN_DATA)\n",
    "            losses = {}\n",
    "            \n",
    "            for text, annotations in TRAIN_DATA:\n",
    "                doc=nlp.make_doc(text)\n",
    "                example = Example.from_dict(doc, annotations)\n",
    "                nlp.update(\n",
    "                    [example],\n",
    "                    drop=0.2,\n",
    "                    sgd =optimizer,\n",
    "                    losses=losses\n",
    "                )\n",
    "            print(losses)\n",
    "            \n",
    "    return (nlp)"
   ]
  },
  {
   "cell_type": "code",
   "execution_count": null,
   "id": "beb6c508",
   "metadata": {},
   "outputs": [],
   "source": [
    "import time\n",
    "start_time = time.time()\n",
    "nlp = train_spacy(TRAIN_DATA, 30)\n",
    "nlp.to_disk(\"political_ner_model\")\n",
    "print(\"--- %s seconds ---\" % (time.time() - start_time))"
   ]
  }
 ],
 "metadata": {
  "kernelspec": {
   "display_name": "Python 3 (ipykernel)",
   "language": "python",
   "name": "python3"
  },
  "language_info": {
   "codemirror_mode": {
    "name": "ipython",
    "version": 3
   },
   "file_extension": ".py",
   "mimetype": "text/x-python",
   "name": "python",
   "nbconvert_exporter": "python",
   "pygments_lexer": "ipython3",
   "version": "3.9.5"
  }
 },
 "nbformat": 4,
 "nbformat_minor": 5
}
